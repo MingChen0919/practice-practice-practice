{
 "cells": [
  {
   "cell_type": "code",
   "execution_count": 57,
   "metadata": {},
   "outputs": [],
   "source": [
    "import numpy as np\n",
    "import matplotlib.pyplot as plt\n",
    "from sklearn.model_selection import cross_val_score, GridSearchCV, ParameterGrid\n",
    "from sklearn import datasets, svm"
   ]
  },
  {
   "cell_type": "code",
   "execution_count": 58,
   "metadata": {},
   "outputs": [],
   "source": [
    "# import data\n",
    "digits = datasets.load_digits()\n",
    "X = digits.data\n",
    "y = digits.target"
   ]
  },
  {
   "cell_type": "code",
   "execution_count": 112,
   "metadata": {},
   "outputs": [],
   "source": [
    "# create parameter grid\n",
    "C_range = np.logspace(-10, 0, 11)\n",
    "gamma_range = np.logspace(-3, 3, 7)\n",
    "param_grid = {\n",
    "    'C': C_range,\n",
    "    'gamma': gamma_range\n",
    "}"
   ]
  },
  {
   "cell_type": "code",
   "execution_count": 113,
   "metadata": {},
   "outputs": [
    {
     "data": {
      "text/plain": [
       "GridSearchCV(cv=5, error_score='raise',\n",
       "       estimator=SVC(C=1.0, cache_size=200, class_weight=None, coef0=0.0,\n",
       "  decision_function_shape='ovr', degree=3, gamma='auto', kernel='rbf',\n",
       "  max_iter=-1, probability=False, random_state=None, shrinking=True,\n",
       "  tol=0.001, verbose=False),\n",
       "       fit_params=None, iid=True, n_jobs=1,\n",
       "       param_grid={'C': array([1.e-10, 1.e-09, 1.e-08, 1.e-07, 1.e-06, 1.e-05, 1.e-04, 1.e-03,\n",
       "       1.e-02, 1.e-01, 1.e+00]), 'gamma': array([1.e-03, 1.e-02, 1.e-01, 1.e+00, 1.e+01, 1.e+02, 1.e+03])},\n",
       "       pre_dispatch='2*n_jobs', refit=True, return_train_score='warn',\n",
       "       scoring=None, verbose=0)"
      ]
     },
     "execution_count": 113,
     "metadata": {},
     "output_type": "execute_result"
    }
   ],
   "source": [
    "# train models\n",
    "cv = GridSearchCV(svm.SVC(), param_grid=param_grid, cv=5)\n",
    "cv.fit(X, y)"
   ]
  },
  {
   "cell_type": "code",
   "execution_count": 127,
   "metadata": {},
   "outputs": [
    {
     "data": {
      "image/png": "[encoded data removed]",
      "text/plain": [
       "<Figure size 432x288 with 2 Axes>"
      ]
     },
     "metadata": {},
     "output_type": "display_data"
    }
   ],
   "source": [
    "# # plot relationship between scores and parameters\n",
    "# gamma_list = [item['gamma'] for item in param_grid]\n",
    "# C_list = [item['C'] for item in param_grid]\n",
    "mean_scores = cv.cv_results_['mean_test_score']\n",
    "\n",
    "plt.imshow(mean_scores.reshape(len(C_range), len(gamma_range)))\n",
    "plt.xlabel('gamma')\n",
    "plt.ylabel('C')\n",
    "plt.colorbar()\n",
    "plt.yticks(np.arange(len(C_range)), C_range)\n",
    "plt.xticks(np.arange(len(gamma_range)), gamma_range, rotation=45)\n",
    "plt.title('C: %s, gamma: %s \\nbest score: %s' % \n",
    "          (cv.best_params_['C'], cv.best_params_['gamma'], cv.best_score_))\n",
    "plt.show()"
   ]
  },
  {
   "cell_type": "code",
   "execution_count": 121,
   "metadata": {},
   "outputs": [
    {
     "data": {
      "text/plain": [
       "array([0.14134669, 0.11129661, 0.10239288, 0.14134669, 0.10239288,\n",
       "       0.10127991, 0.10127991, 0.14134669, 0.11129661, 0.10239288,\n",
       "       0.14134669, 0.10239288, 0.10127991, 0.10127991, 0.14134669,\n",
       "       0.11129661, 0.10239288, 0.14134669, 0.10239288, 0.10127991,\n",
       "       0.10127991, 0.14134669, 0.11129661, 0.10239288, 0.14134669,\n",
       "       0.10239288, 0.10127991, 0.10127991, 0.14134669, 0.11129661,\n",
       "       0.10239288, 0.14134669, 0.10239288, 0.10127991, 0.10127991,\n",
       "       0.14134669, 0.11129661, 0.10239288, 0.14134669, 0.10239288,\n",
       "       0.10127991, 0.10127991, 0.14134669, 0.11129661, 0.10239288,\n",
       "       0.1213133 , 0.10239288, 0.10127991, 0.10127991, 0.14134669,\n",
       "       0.11129661, 0.10239288, 0.1213133 , 0.10239288, 0.10127991,\n",
       "       0.10127991, 0.17250974, 0.11129661, 0.10239288, 0.1213133 ,\n",
       "       0.10239288, 0.10127991, 0.10127991, 0.94323873, 0.11129661,\n",
       "       0.10239288, 0.1213133 , 0.10239288, 0.10127991, 0.10127991,\n",
       "       0.97161937, 0.6950473 , 0.10406233, 0.1213133 , 0.10239288,\n",
       "       0.10127991, 0.10127991])"
      ]
     },
     "execution_count": 121,
     "metadata": {},
     "output_type": "execute_result"
    }
   ],
   "source": []
  },
  {
   "cell_type": "code",
   "execution_count": 117,
   "metadata": {},
   "outputs": [
    {
     "data": {
      "text/plain": [
       "{'C': 1.0, 'gamma': 0.001}"
      ]
     },
     "execution_count": 117,
     "metadata": {},
     "output_type": "execute_result"
    }
   ],
   "source": [
    "cv.best_params_"
   ]
  },
  {
   "cell_type": "code",
   "execution_count": null,
   "metadata": {},
   "outputs": [],
   "source": []
  },
  {
   "cell_type": "code",
   "execution_count": null,
   "metadata": {},
   "outputs": [],
   "source": []
  }
 ],
 "metadata": {
  "kernelspec": {
   "display_name": "Python 3",
   "language": "python",
   "name": "python3"
  },
  "language_info": {
   "codemirror_mode": {
    "name": "ipython",
    "version": 3
   },
   "file_extension": ".py",
   "mimetype": "text/x-python",
   "name": "python",
   "nbconvert_exporter": "python",
   "pygments_lexer": "ipython3",
   "version": "3.6.5"
  }
 },
 "nbformat": 4,
 "nbformat_minor": 2
}
